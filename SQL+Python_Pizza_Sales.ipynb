{
 "cells": [
  {
   "cell_type": "markdown",
   "id": "49bff957-bf06-4da2-ba81-874c415474f6",
   "metadata": {},
   "source": [
    "# IMPORTING LIBRARIES AND CONNECTING MYSQL"
   ]
  },
  {
   "cell_type": "code",
   "execution_count": 2,
   "id": "dafdcf2d-17e5-4447-9236-ae1506b323ab",
   "metadata": {},
   "outputs": [],
   "source": [
    "import pandas as pd\n",
    "import numpy as np\n",
    "import matplotlib.pyplot as plt\n",
    "import seaborn as sns\n",
    "import mysql.connector\n",
    "\n",
    "db = mysql.connector.connect(host = \"localhost\",\n",
    "                             username = \"root\",\n",
    "                             password = \"**********\",\n",
    "                             database = \"pizzasales\",\n",
    "                             consume_results=True\n",
    "                            )\n",
    "cur = db.cursor()\n",
    "cnx = mysql.connector.connect()"
   ]
  },
  {
   "cell_type": "markdown",
   "id": "35f4ef52-80fc-435a-9a9c-5dc6cd0aa7f7",
   "metadata": {},
   "source": [
    "# BASIC QUERIES "
   ]
  },
  {
   "cell_type": "markdown",
   "id": "fc141ba0-0131-41ed-b4ae-f84be3eaea2f",
   "metadata": {},
   "source": [
    "## Retrieve the total number of orders placed"
   ]
  },
  {
   "cell_type": "code",
   "execution_count": 5,
   "id": "96114624-eabb-45cc-85a3-1f6b76beb3e3",
   "metadata": {},
   "outputs": [
    {
     "data": {
      "text/html": [
       "<div>\n",
       "<style scoped>\n",
       "    .dataframe tbody tr th:only-of-type {\n",
       "        vertical-align: middle;\n",
       "    }\n",
       "\n",
       "    .dataframe tbody tr th {\n",
       "        vertical-align: top;\n",
       "    }\n",
       "\n",
       "    .dataframe thead th {\n",
       "        text-align: right;\n",
       "    }\n",
       "</style>\n",
       "<table border=\"1\" class=\"dataframe\">\n",
       "  <thead>\n",
       "    <tr style=\"text-align: right;\">\n",
       "      <th></th>\n",
       "      <th>Total_Orders</th>\n",
       "    </tr>\n",
       "  </thead>\n",
       "  <tbody>\n",
       "    <tr>\n",
       "      <th>0</th>\n",
       "      <td>42700</td>\n",
       "    </tr>\n",
       "  </tbody>\n",
       "</table>\n",
       "</div>"
      ],
      "text/plain": [
       "   Total_Orders\n",
       "0         42700"
      ]
     },
     "execution_count": 5,
     "metadata": {},
     "output_type": "execute_result"
    }
   ],
   "source": [
    "query = \"\"\" select count(order_id) from orders \"\"\"\n",
    "cur.execute(query)\n",
    "data = cur.fetchall()\n",
    "pd.DataFrame(data,columns=[\"Total_Orders\"])"
   ]
  },
  {
   "cell_type": "markdown",
   "id": "c71842f6-245d-4277-b81a-6a6ffe3d0648",
   "metadata": {},
   "source": [
    "## Calculate the total revenue generated from Pizza Sales"
   ]
  },
  {
   "cell_type": "code",
   "execution_count": 7,
   "id": "21db1a02-260e-4be7-95d9-5d351eea778a",
   "metadata": {},
   "outputs": [
    {
     "data": {
      "text/html": [
       "<div>\n",
       "<style scoped>\n",
       "    .dataframe tbody tr th:only-of-type {\n",
       "        vertical-align: middle;\n",
       "    }\n",
       "\n",
       "    .dataframe tbody tr th {\n",
       "        vertical-align: top;\n",
       "    }\n",
       "\n",
       "    .dataframe thead th {\n",
       "        text-align: right;\n",
       "    }\n",
       "</style>\n",
       "<table border=\"1\" class=\"dataframe\">\n",
       "  <thead>\n",
       "    <tr style=\"text-align: right;\">\n",
       "      <th></th>\n",
       "      <th>Total Revenue</th>\n",
       "    </tr>\n",
       "  </thead>\n",
       "  <tbody>\n",
       "    <tr>\n",
       "      <th>0</th>\n",
       "      <td>1635720.1</td>\n",
       "    </tr>\n",
       "  </tbody>\n",
       "</table>\n",
       "</div>"
      ],
      "text/plain": [
       "   Total Revenue\n",
       "0      1635720.1"
      ]
     },
     "execution_count": 7,
     "metadata": {},
     "output_type": "execute_result"
    }
   ],
   "source": [
    "query = \"\"\" select round(sum(order_details.quantity * pizzas.price),2)\n",
    "from order_details join pizzas\n",
    "on order_details.pizza_id = pizzas.pizza_id \"\"\"\n",
    "cur.execute(query)\n",
    "data = cur.fetchall()\n",
    "pd.DataFrame(data, columns=[\"Total Revenue\"])"
   ]
  },
  {
   "cell_type": "markdown",
   "id": "cdd87e5b-9012-454a-be03-19f9053a4b8b",
   "metadata": {},
   "source": [
    "## Identify the highest priced pizza"
   ]
  },
  {
   "cell_type": "code",
   "execution_count": 9,
   "id": "b0d3d6de-75f4-4298-b04d-5814b2612d4d",
   "metadata": {},
   "outputs": [
    {
     "data": {
      "text/plain": [
       "[('The Greek Pizza', 35.95)]"
      ]
     },
     "execution_count": 9,
     "metadata": {},
     "output_type": "execute_result"
    }
   ],
   "source": [
    "query = \"\"\" select pizza_types.name,pizzas.price\n",
    "from pizza_types join pizzas\n",
    "on pizza_types.pizza_type_id = pizzas.pizza_type_id\n",
    "order by pizzas.price desc limit 1 \"\"\"\n",
    "cur.execute(query)\n",
    "data = cur.fetchall()\n",
    "data"
   ]
  },
  {
   "cell_type": "markdown",
   "id": "b9a3667a-506d-4c96-a426-fb60cb3bb8e9",
   "metadata": {},
   "source": [
    "## Determine the distribution of orders by hour of the day"
   ]
  },
  {
   "cell_type": "code",
   "execution_count": 11,
   "id": "96e61998-f7e4-49d1-bff0-8914a295df7f",
   "metadata": {},
   "outputs": [
    {
     "data": {
      "text/html": [
       "<div>\n",
       "<style scoped>\n",
       "    .dataframe tbody tr th:only-of-type {\n",
       "        vertical-align: middle;\n",
       "    }\n",
       "\n",
       "    .dataframe tbody tr th {\n",
       "        vertical-align: top;\n",
       "    }\n",
       "\n",
       "    .dataframe thead th {\n",
       "        text-align: right;\n",
       "    }\n",
       "</style>\n",
       "<table border=\"1\" class=\"dataframe\">\n",
       "  <thead>\n",
       "    <tr style=\"text-align: right;\">\n",
       "      <th></th>\n",
       "      <th>Hour_of_day</th>\n",
       "      <th>Order_count</th>\n",
       "    </tr>\n",
       "  </thead>\n",
       "  <tbody>\n",
       "    <tr>\n",
       "      <th>0</th>\n",
       "      <td>12</td>\n",
       "      <td>5040</td>\n",
       "    </tr>\n",
       "    <tr>\n",
       "      <th>1</th>\n",
       "      <td>13</td>\n",
       "      <td>4910</td>\n",
       "    </tr>\n",
       "    <tr>\n",
       "      <th>2</th>\n",
       "      <td>18</td>\n",
       "      <td>4798</td>\n",
       "    </tr>\n",
       "    <tr>\n",
       "      <th>3</th>\n",
       "      <td>17</td>\n",
       "      <td>4672</td>\n",
       "    </tr>\n",
       "    <tr>\n",
       "      <th>4</th>\n",
       "      <td>19</td>\n",
       "      <td>4018</td>\n",
       "    </tr>\n",
       "    <tr>\n",
       "      <th>5</th>\n",
       "      <td>16</td>\n",
       "      <td>3840</td>\n",
       "    </tr>\n",
       "    <tr>\n",
       "      <th>6</th>\n",
       "      <td>20</td>\n",
       "      <td>3284</td>\n",
       "    </tr>\n",
       "    <tr>\n",
       "      <th>7</th>\n",
       "      <td>14</td>\n",
       "      <td>2944</td>\n",
       "    </tr>\n",
       "    <tr>\n",
       "      <th>8</th>\n",
       "      <td>15</td>\n",
       "      <td>2936</td>\n",
       "    </tr>\n",
       "    <tr>\n",
       "      <th>9</th>\n",
       "      <td>11</td>\n",
       "      <td>2462</td>\n",
       "    </tr>\n",
       "    <tr>\n",
       "      <th>10</th>\n",
       "      <td>21</td>\n",
       "      <td>2396</td>\n",
       "    </tr>\n",
       "    <tr>\n",
       "      <th>11</th>\n",
       "      <td>22</td>\n",
       "      <td>1326</td>\n",
       "    </tr>\n",
       "    <tr>\n",
       "      <th>12</th>\n",
       "      <td>23</td>\n",
       "      <td>56</td>\n",
       "    </tr>\n",
       "    <tr>\n",
       "      <th>13</th>\n",
       "      <td>10</td>\n",
       "      <td>16</td>\n",
       "    </tr>\n",
       "    <tr>\n",
       "      <th>14</th>\n",
       "      <td>9</td>\n",
       "      <td>2</td>\n",
       "    </tr>\n",
       "  </tbody>\n",
       "</table>\n",
       "</div>"
      ],
      "text/plain": [
       "    Hour_of_day  Order_count\n",
       "0            12         5040\n",
       "1            13         4910\n",
       "2            18         4798\n",
       "3            17         4672\n",
       "4            19         4018\n",
       "5            16         3840\n",
       "6            20         3284\n",
       "7            14         2944\n",
       "8            15         2936\n",
       "9            11         2462\n",
       "10           21         2396\n",
       "11           22         1326\n",
       "12           23           56\n",
       "13           10           16\n",
       "14            9            2"
      ]
     },
     "execution_count": 11,
     "metadata": {},
     "output_type": "execute_result"
    }
   ],
   "source": [
    "query = \"\"\" select hour(time) , count(order_id)\n",
    "from orders group by hour(time)\n",
    "order by count(order_id) desc \"\"\"\n",
    "cur.execute(query)\n",
    "data = cur.fetchall()\n",
    "pd.DataFrame(data,columns=[\"Hour_of_day\",\"Order_count\"])"
   ]
  },
  {
   "cell_type": "markdown",
   "id": "edb585f9-98b7-49ea-a3ca-d78f11d6dac8",
   "metadata": {},
   "source": [
    "## Find the category wise distribution of pizzas"
   ]
  },
  {
   "cell_type": "code",
   "execution_count": 13,
   "id": "afa4a02b-cb81-4cd4-9d93-26c2db32f2a7",
   "metadata": {},
   "outputs": [
    {
     "data": {
      "text/html": [
       "<div>\n",
       "<style scoped>\n",
       "    .dataframe tbody tr th:only-of-type {\n",
       "        vertical-align: middle;\n",
       "    }\n",
       "\n",
       "    .dataframe tbody tr th {\n",
       "        vertical-align: top;\n",
       "    }\n",
       "\n",
       "    .dataframe thead th {\n",
       "        text-align: right;\n",
       "    }\n",
       "</style>\n",
       "<table border=\"1\" class=\"dataframe\">\n",
       "  <thead>\n",
       "    <tr style=\"text-align: right;\">\n",
       "      <th></th>\n",
       "      <th>Category</th>\n",
       "      <th>Pizza_Type_Count</th>\n",
       "    </tr>\n",
       "  </thead>\n",
       "  <tbody>\n",
       "    <tr>\n",
       "      <th>0</th>\n",
       "      <td>Chicken</td>\n",
       "      <td>6</td>\n",
       "    </tr>\n",
       "    <tr>\n",
       "      <th>1</th>\n",
       "      <td>Classic</td>\n",
       "      <td>8</td>\n",
       "    </tr>\n",
       "    <tr>\n",
       "      <th>2</th>\n",
       "      <td>Supreme</td>\n",
       "      <td>9</td>\n",
       "    </tr>\n",
       "    <tr>\n",
       "      <th>3</th>\n",
       "      <td>Veggie</td>\n",
       "      <td>9</td>\n",
       "    </tr>\n",
       "  </tbody>\n",
       "</table>\n",
       "</div>"
      ],
      "text/plain": [
       "  Category  Pizza_Type_Count\n",
       "0  Chicken                 6\n",
       "1  Classic                 8\n",
       "2  Supreme                 9\n",
       "3   Veggie                 9"
      ]
     },
     "execution_count": 13,
     "metadata": {},
     "output_type": "execute_result"
    }
   ],
   "source": [
    "query = \"\"\" select category, count(name) from Pizza_types\n",
    "group by category\"\"\"\n",
    "cur.execute(query)\n",
    "data = cur.fetchall()\n",
    "pd.DataFrame(data,columns=[\"Category\",\"Pizza_Type_Count\"])"
   ]
  },
  {
   "cell_type": "markdown",
   "id": "91b5e8d8-0bb7-462b-8cfc-6171f5ac908e",
   "metadata": {},
   "source": [
    "# INTERMEDIATE QUERIES"
   ]
  },
  {
   "cell_type": "markdown",
   "id": "4b918bf9-74aa-4c9b-8b91-74f5759517e3",
   "metadata": {},
   "source": [
    "## Identify the most common pizza size ordered"
   ]
  },
  {
   "cell_type": "code",
   "execution_count": 16,
   "id": "1d82a093-6580-455c-8437-019f557160fe",
   "metadata": {},
   "outputs": [
    {
     "data": {
      "text/html": [
       "<div>\n",
       "<style scoped>\n",
       "    .dataframe tbody tr th:only-of-type {\n",
       "        vertical-align: middle;\n",
       "    }\n",
       "\n",
       "    .dataframe tbody tr th {\n",
       "        vertical-align: top;\n",
       "    }\n",
       "\n",
       "    .dataframe thead th {\n",
       "        text-align: right;\n",
       "    }\n",
       "</style>\n",
       "<table border=\"1\" class=\"dataframe\">\n",
       "  <thead>\n",
       "    <tr style=\"text-align: right;\">\n",
       "      <th></th>\n",
       "      <th>Pizza_Size</th>\n",
       "      <th>Order_Count</th>\n",
       "    </tr>\n",
       "  </thead>\n",
       "  <tbody>\n",
       "    <tr>\n",
       "      <th>1</th>\n",
       "      <td>L</td>\n",
       "      <td>37052</td>\n",
       "    </tr>\n",
       "    <tr>\n",
       "      <th>2</th>\n",
       "      <td>M</td>\n",
       "      <td>30770</td>\n",
       "    </tr>\n",
       "    <tr>\n",
       "      <th>3</th>\n",
       "      <td>S</td>\n",
       "      <td>28274</td>\n",
       "    </tr>\n",
       "    <tr>\n",
       "      <th>4</th>\n",
       "      <td>XL</td>\n",
       "      <td>1088</td>\n",
       "    </tr>\n",
       "    <tr>\n",
       "      <th>5</th>\n",
       "      <td>XXL</td>\n",
       "      <td>56</td>\n",
       "    </tr>\n",
       "  </tbody>\n",
       "</table>\n",
       "</div>"
      ],
      "text/plain": [
       "  Pizza_Size  Order_Count\n",
       "1          L        37052\n",
       "2          M        30770\n",
       "3          S        28274\n",
       "4         XL         1088\n",
       "5        XXL           56"
      ]
     },
     "execution_count": 16,
     "metadata": {},
     "output_type": "execute_result"
    }
   ],
   "source": [
    "query = \"\"\" select pizzas.size,\n",
    "count(order_details.order_id) as order_count\n",
    "from pizzas join order_details\n",
    "on pizzas.pizza_id=order_details.pizza_id\n",
    "group by pizzas.size order by order_count desc \"\"\"\n",
    "cur.execute(query)\n",
    "data = cur.fetchall()\n",
    "pd.DataFrame(data, columns=[\"Pizza_Size\",\"Order_Count\"],index=[1,2,3,4,5])"
   ]
  },
  {
   "cell_type": "markdown",
   "id": "37208ddc-cb87-47dc-aa06-7ae18370ad30",
   "metadata": {},
   "source": [
    "## List the top 5 most ordered pizza types along with their quantities"
   ]
  },
  {
   "cell_type": "code",
   "execution_count": 18,
   "id": "3d53d48a-0893-4ced-839a-f614049e080b",
   "metadata": {},
   "outputs": [
    {
     "data": {
      "text/html": [
       "<div>\n",
       "<style scoped>\n",
       "    .dataframe tbody tr th:only-of-type {\n",
       "        vertical-align: middle;\n",
       "    }\n",
       "\n",
       "    .dataframe tbody tr th {\n",
       "        vertical-align: top;\n",
       "    }\n",
       "\n",
       "    .dataframe thead th {\n",
       "        text-align: right;\n",
       "    }\n",
       "</style>\n",
       "<table border=\"1\" class=\"dataframe\">\n",
       "  <thead>\n",
       "    <tr style=\"text-align: right;\">\n",
       "      <th></th>\n",
       "      <th>Pizza_Type_size</th>\n",
       "      <th>Order_Quantity</th>\n",
       "    </tr>\n",
       "  </thead>\n",
       "  <tbody>\n",
       "    <tr>\n",
       "      <th>1</th>\n",
       "      <td>big_meat_s</td>\n",
       "      <td>3828</td>\n",
       "    </tr>\n",
       "    <tr>\n",
       "      <th>2</th>\n",
       "      <td>thai_ckn_l</td>\n",
       "      <td>2820</td>\n",
       "    </tr>\n",
       "    <tr>\n",
       "      <th>3</th>\n",
       "      <td>five_cheese_l</td>\n",
       "      <td>2818</td>\n",
       "    </tr>\n",
       "    <tr>\n",
       "      <th>4</th>\n",
       "      <td>four_cheese_l</td>\n",
       "      <td>2632</td>\n",
       "    </tr>\n",
       "    <tr>\n",
       "      <th>5</th>\n",
       "      <td>classic_dlx_m</td>\n",
       "      <td>2362</td>\n",
       "    </tr>\n",
       "  </tbody>\n",
       "</table>\n",
       "</div>"
      ],
      "text/plain": [
       "  Pizza_Type_size Order_Quantity\n",
       "1      big_meat_s           3828\n",
       "2      thai_ckn_l           2820\n",
       "3   five_cheese_l           2818\n",
       "4   four_cheese_l           2632\n",
       "5   classic_dlx_m           2362"
      ]
     },
     "execution_count": 18,
     "metadata": {},
     "output_type": "execute_result"
    }
   ],
   "source": [
    "## Method - 1 - Direct by Pizza Type id\n",
    "query = \"\"\" select pizza_id,sum(quantity) as quantity\n",
    "from order_details \n",
    "group by pizza_id\n",
    "order by quantity desc limit 5 \"\"\"\n",
    "cur.execute(query)\n",
    "data = cur.fetchall()\n",
    "pd.DataFrame(data, columns = [\"Pizza_Type_size\",\"Order_Quantity\"],index=[1,2,3,4,5])"
   ]
  },
  {
   "cell_type": "code",
   "execution_count": 19,
   "id": "3cc67acf-3b30-4329-bbb7-344a05c08416",
   "metadata": {},
   "outputs": [
    {
     "data": {
      "text/html": [
       "<div>\n",
       "<style scoped>\n",
       "    .dataframe tbody tr th:only-of-type {\n",
       "        vertical-align: middle;\n",
       "    }\n",
       "\n",
       "    .dataframe tbody tr th {\n",
       "        vertical-align: top;\n",
       "    }\n",
       "\n",
       "    .dataframe thead th {\n",
       "        text-align: right;\n",
       "    }\n",
       "</style>\n",
       "<table border=\"1\" class=\"dataframe\">\n",
       "  <thead>\n",
       "    <tr style=\"text-align: right;\">\n",
       "      <th></th>\n",
       "      <th>Pizza_Name</th>\n",
       "      <th>Order_quantity</th>\n",
       "    </tr>\n",
       "  </thead>\n",
       "  <tbody>\n",
       "    <tr>\n",
       "      <th>1</th>\n",
       "      <td>The Classic Deluxe Pizza</td>\n",
       "      <td>4906</td>\n",
       "    </tr>\n",
       "    <tr>\n",
       "      <th>2</th>\n",
       "      <td>The Barbecue Chicken Pizza</td>\n",
       "      <td>4864</td>\n",
       "    </tr>\n",
       "    <tr>\n",
       "      <th>3</th>\n",
       "      <td>The Hawaiian Pizza</td>\n",
       "      <td>4844</td>\n",
       "    </tr>\n",
       "    <tr>\n",
       "      <th>4</th>\n",
       "      <td>The Pepperoni Pizza</td>\n",
       "      <td>4836</td>\n",
       "    </tr>\n",
       "    <tr>\n",
       "      <th>5</th>\n",
       "      <td>The Thai Chicken Pizza</td>\n",
       "      <td>4742</td>\n",
       "    </tr>\n",
       "  </tbody>\n",
       "</table>\n",
       "</div>"
      ],
      "text/plain": [
       "                   Pizza_Name Order_quantity\n",
       "1    The Classic Deluxe Pizza           4906\n",
       "2  The Barbecue Chicken Pizza           4864\n",
       "3          The Hawaiian Pizza           4844\n",
       "4         The Pepperoni Pizza           4836\n",
       "5      The Thai Chicken Pizza           4742"
      ]
     },
     "execution_count": 19,
     "metadata": {},
     "output_type": "execute_result"
    }
   ],
   "source": [
    "## Method -2 - Showing pizza Names\n",
    "query = \"\"\" select pizza_types.name,\n",
    "sum(order_details.quantity) as quantity\n",
    "from pizza_types join pizzas\n",
    "on pizza_types.pizza_type_id = pizzas.pizza_type_id\n",
    "join order_details \n",
    "on pizzas.pizza_id = order_details.pizza_id\n",
    "group by pizza_types.name\n",
    "order by quantity desc limit 5 \"\"\"\n",
    "cur.execute(query)\n",
    "data = cur.fetchall()\n",
    "pd.DataFrame(data,columns=[\"Pizza_Name\",\"Order_quantity\"],index = [1,2,3,4,5])"
   ]
  },
  {
   "cell_type": "markdown",
   "id": "30617b99-63be-4fe3-a158-21852a84caed",
   "metadata": {},
   "source": [
    "## Join the necessary tables to find the total quantity of each pizza category ordered"
   ]
  },
  {
   "cell_type": "code",
   "execution_count": 21,
   "id": "1dbe2cb0-136f-4036-aa82-930f968ba10b",
   "metadata": {},
   "outputs": [
    {
     "data": {
      "text/html": [
       "<div>\n",
       "<style scoped>\n",
       "    .dataframe tbody tr th:only-of-type {\n",
       "        vertical-align: middle;\n",
       "    }\n",
       "\n",
       "    .dataframe tbody tr th {\n",
       "        vertical-align: top;\n",
       "    }\n",
       "\n",
       "    .dataframe thead th {\n",
       "        text-align: right;\n",
       "    }\n",
       "</style>\n",
       "<table border=\"1\" class=\"dataframe\">\n",
       "  <thead>\n",
       "    <tr style=\"text-align: right;\">\n",
       "      <th></th>\n",
       "      <th>Pizza_category</th>\n",
       "      <th>Quantity</th>\n",
       "    </tr>\n",
       "  </thead>\n",
       "  <tbody>\n",
       "    <tr>\n",
       "      <th>1</th>\n",
       "      <td>Classic</td>\n",
       "      <td>29776</td>\n",
       "    </tr>\n",
       "    <tr>\n",
       "      <th>2</th>\n",
       "      <td>Supreme</td>\n",
       "      <td>23974</td>\n",
       "    </tr>\n",
       "    <tr>\n",
       "      <th>3</th>\n",
       "      <td>Veggie</td>\n",
       "      <td>23298</td>\n",
       "    </tr>\n",
       "    <tr>\n",
       "      <th>4</th>\n",
       "      <td>Chicken</td>\n",
       "      <td>22100</td>\n",
       "    </tr>\n",
       "  </tbody>\n",
       "</table>\n",
       "</div>"
      ],
      "text/plain": [
       "  Pizza_category Quantity\n",
       "1        Classic    29776\n",
       "2        Supreme    23974\n",
       "3         Veggie    23298\n",
       "4        Chicken    22100"
      ]
     },
     "execution_count": 21,
     "metadata": {},
     "output_type": "execute_result"
    }
   ],
   "source": [
    "query = \"\"\" select pizza_types.category, \n",
    "sum(order_details.quantity) as quantity\n",
    "from pizza_types join pizzas\n",
    "on pizza_types.pizza_type_id = pizzas.pizza_type_id\n",
    "join order_details on \n",
    " pizzas.pizza_id = order_details.pizza_id \n",
    " group by pizza_types.category\n",
    " order by quantity desc\"\"\"\n",
    "cur.execute(query)\n",
    "data = cur.fetchall()\n",
    "pd.DataFrame(data, columns=[\"Pizza_category\",\"Quantity\"],index=[1,2,3,4])"
   ]
  },
  {
   "cell_type": "markdown",
   "id": "96f305be-e041-41f4-a18e-284e919766eb",
   "metadata": {},
   "source": [
    "### Group the orders by date and calculate the average number of Pizzas ordered per day"
   ]
  },
  {
   "cell_type": "code",
   "execution_count": 23,
   "id": "c5a98ce2-da7d-446e-9b87-e9f975bf37fb",
   "metadata": {},
   "outputs": [
    {
     "name": "stdout",
     "output_type": "stream",
     "text": [
      "Avg. no. of Pizzas ordered per day: [(Decimal('554'),)]\n"
     ]
    }
   ],
   "source": [
    "query = \"\"\" select round(avg(q)) from\n",
    "(select orders.date, sum(order_details.quantity) as q\n",
    "from orders join order_details \n",
    "on orders.order_id=order_details.order_id\n",
    "group by orders.date) as oq \"\"\"\n",
    "cur.execute(query)\n",
    "data = cur.fetchall()\n",
    "print(\"Avg. no. of Pizzas ordered per day:\",data)"
   ]
  },
  {
   "cell_type": "markdown",
   "id": "d7c39fa3-1ba0-4f45-be80-d216b1f5cce1",
   "metadata": {},
   "source": [
    "### Determine the top 3 most ordered pizza types based on revenue"
   ]
  },
  {
   "cell_type": "code",
   "execution_count": 25,
   "id": "fd4b4027-77be-4de2-b0bb-d3218a392eb0",
   "metadata": {},
   "outputs": [
    {
     "data": {
      "text/html": [
       "<div>\n",
       "<style scoped>\n",
       "    .dataframe tbody tr th:only-of-type {\n",
       "        vertical-align: middle;\n",
       "    }\n",
       "\n",
       "    .dataframe tbody tr th {\n",
       "        vertical-align: top;\n",
       "    }\n",
       "\n",
       "    .dataframe thead th {\n",
       "        text-align: right;\n",
       "    }\n",
       "</style>\n",
       "<table border=\"1\" class=\"dataframe\">\n",
       "  <thead>\n",
       "    <tr style=\"text-align: right;\">\n",
       "      <th></th>\n",
       "      <th>pizza_type</th>\n",
       "      <th>revenue</th>\n",
       "    </tr>\n",
       "  </thead>\n",
       "  <tbody>\n",
       "    <tr>\n",
       "      <th>1</th>\n",
       "      <td>The Thai Chicken Pizza</td>\n",
       "      <td>86868.0</td>\n",
       "    </tr>\n",
       "    <tr>\n",
       "      <th>2</th>\n",
       "      <td>The Barbecue Chicken Pizza</td>\n",
       "      <td>85536.0</td>\n",
       "    </tr>\n",
       "    <tr>\n",
       "      <th>3</th>\n",
       "      <td>The California Chicken Pizza</td>\n",
       "      <td>82819.0</td>\n",
       "    </tr>\n",
       "  </tbody>\n",
       "</table>\n",
       "</div>"
      ],
      "text/plain": [
       "                     pizza_type  revenue\n",
       "1        The Thai Chicken Pizza  86868.0\n",
       "2    The Barbecue Chicken Pizza  85536.0\n",
       "3  The California Chicken Pizza  82819.0"
      ]
     },
     "execution_count": 25,
     "metadata": {},
     "output_type": "execute_result"
    }
   ],
   "source": [
    "query = \"\"\" select pizza_types.name as pn, \n",
    "round(sum(order_details.quantity * pizzas.price)) as rev\n",
    "from pizza_types join pizzas\n",
    "on pizza_types.pizza_type_id = pizzas.pizza_type_id\n",
    "join order_details \n",
    "on pizzas.pizza_id=order_details.pizza_id\n",
    "group by pn\n",
    "order by rev desc limit 3\"\"\"\n",
    "cur.execute(query)\n",
    "data = cur.fetchall()\n",
    "pd.DataFrame(data,columns=[\"pizza_type\",\"revenue\"],index=[1,2,3])"
   ]
  },
  {
   "cell_type": "markdown",
   "id": "2f5cc1e6-2d34-4a5f-9d5a-99293d08d3bb",
   "metadata": {},
   "source": [
    "# ADVANCED QUERIES"
   ]
  },
  {
   "cell_type": "markdown",
   "id": "5b954ee7-1621-4a8d-b67d-85950abe2dbd",
   "metadata": {},
   "source": [
    "### Calculate the percentage contribution of each pizza type to total revenue"
   ]
  },
  {
   "cell_type": "code",
   "execution_count": 28,
   "id": "0ed277e6-af9e-4e66-b455-0bc1e7a44412",
   "metadata": {},
   "outputs": [
    {
     "data": {
      "text/html": [
       "<div>\n",
       "<style scoped>\n",
       "    .dataframe tbody tr th:only-of-type {\n",
       "        vertical-align: middle;\n",
       "    }\n",
       "\n",
       "    .dataframe tbody tr th {\n",
       "        vertical-align: top;\n",
       "    }\n",
       "\n",
       "    .dataframe thead th {\n",
       "        text-align: right;\n",
       "    }\n",
       "</style>\n",
       "<table border=\"1\" class=\"dataframe\">\n",
       "  <thead>\n",
       "    <tr style=\"text-align: right;\">\n",
       "      <th></th>\n",
       "      <th>pizza_type</th>\n",
       "      <th>percentage_contri</th>\n",
       "    </tr>\n",
       "  </thead>\n",
       "  <tbody>\n",
       "    <tr>\n",
       "      <th>0</th>\n",
       "      <td>Classic</td>\n",
       "      <td>26.91</td>\n",
       "    </tr>\n",
       "    <tr>\n",
       "      <th>1</th>\n",
       "      <td>Supreme</td>\n",
       "      <td>25.46</td>\n",
       "    </tr>\n",
       "    <tr>\n",
       "      <th>2</th>\n",
       "      <td>Chicken</td>\n",
       "      <td>23.96</td>\n",
       "    </tr>\n",
       "    <tr>\n",
       "      <th>3</th>\n",
       "      <td>Veggie</td>\n",
       "      <td>23.68</td>\n",
       "    </tr>\n",
       "  </tbody>\n",
       "</table>\n",
       "</div>"
      ],
      "text/plain": [
       "  pizza_type  percentage_contri\n",
       "0    Classic              26.91\n",
       "1    Supreme              25.46\n",
       "2    Chicken              23.96\n",
       "3     Veggie              23.68"
      ]
     },
     "execution_count": 28,
     "metadata": {},
     "output_type": "execute_result"
    }
   ],
   "source": [
    "query = \"\"\" select pizza_types.category as pc,\n",
    "round(sum(order_details.quantity*pizzas.price)/\n",
    "(select sum(order_details.quantity*pizzas.price) \n",
    "from order_details join pizzas\n",
    "on order_details.pizza_id=pizzas.pizza_id)*100,2) as rev\n",
    "from pizza_types join pizzas\n",
    "on pizza_types.pizza_type_id=pizzas.pizza_type_id\n",
    "join order_details\n",
    "on pizzas.pizza_id = order_details.pizza_id\n",
    "group by pc order by rev desc \"\"\"\n",
    "cur.execute(query)\n",
    "data = cur.fetchall()\n",
    "df = pd.DataFrame(data,columns=[\"pizza_type\",\"percentage_contri\"])\n",
    "df"
   ]
  },
  {
   "cell_type": "markdown",
   "id": "0bb3a2ea-04c5-4d1d-8ba4-eb56162e7a93",
   "metadata": {},
   "source": [
    "### Analyze cumulative revenue generated over time"
   ]
  },
  {
   "cell_type": "code",
   "execution_count": 48,
   "id": "7a568700-44db-4605-ae2e-cfaa83fa3d2e",
   "metadata": {},
   "outputs": [
    {
     "data": {
      "text/html": [
       "<div>\n",
       "<style scoped>\n",
       "    .dataframe tbody tr th:only-of-type {\n",
       "        vertical-align: middle;\n",
       "    }\n",
       "\n",
       "    .dataframe tbody tr th {\n",
       "        vertical-align: top;\n",
       "    }\n",
       "\n",
       "    .dataframe thead th {\n",
       "        text-align: right;\n",
       "    }\n",
       "</style>\n",
       "<table border=\"1\" class=\"dataframe\">\n",
       "  <thead>\n",
       "    <tr style=\"text-align: right;\">\n",
       "      <th></th>\n",
       "      <th>Order_date</th>\n",
       "      <th>Cumulative_revenue</th>\n",
       "    </tr>\n",
       "  </thead>\n",
       "  <tbody>\n",
       "    <tr>\n",
       "      <th>0</th>\n",
       "      <td>2015-01-01</td>\n",
       "      <td>10855.0</td>\n",
       "    </tr>\n",
       "    <tr>\n",
       "      <th>1</th>\n",
       "      <td>2015-01-02</td>\n",
       "      <td>21783.0</td>\n",
       "    </tr>\n",
       "    <tr>\n",
       "      <th>2</th>\n",
       "      <td>2015-01-03</td>\n",
       "      <td>32433.0</td>\n",
       "    </tr>\n",
       "    <tr>\n",
       "      <th>3</th>\n",
       "      <td>2015-01-04</td>\n",
       "      <td>39455.0</td>\n",
       "    </tr>\n",
       "    <tr>\n",
       "      <th>4</th>\n",
       "      <td>2015-01-05</td>\n",
       "      <td>47719.0</td>\n",
       "    </tr>\n",
       "  </tbody>\n",
       "</table>\n",
       "</div>"
      ],
      "text/plain": [
       "   Order_date  Cumulative_revenue\n",
       "0  2015-01-01             10855.0\n",
       "1  2015-01-02             21783.0\n",
       "2  2015-01-03             32433.0\n",
       "3  2015-01-04             39455.0\n",
       "4  2015-01-05             47719.0"
      ]
     },
     "execution_count": 48,
     "metadata": {},
     "output_type": "execute_result"
    }
   ],
   "source": [
    "query = \"\"\" select date,sum(rev) over(order by date) as cum_val\n",
    "from (select orders.date, \n",
    "round(sum(order_details.quantity*pizzas.price)) as rev\n",
    "from orders join order_details\n",
    "on orders.order_id=order_details.order_id\n",
    "join pizzas on order_details.pizza_id=pizzas.pizza_id\n",
    "group by orders.date) as sales \"\"\"\n",
    "cur.execute(query)\n",
    "data = cur.fetchall()\n",
    "df = pd.DataFrame(data,columns=[\"Order_date\",\"Cumulative_revenue\"])\n",
    "df.head()"
   ]
  },
  {
   "cell_type": "markdown",
   "id": "f0df4d45-1a0d-4b9a-8ad2-2fb84336e3ce",
   "metadata": {},
   "source": [
    "### Determine top 3 most ordered pizza type based on revenue for each pizza category"
   ]
  },
  {
   "cell_type": "code",
   "execution_count": 52,
   "id": "64d61d58-d086-48f7-878e-4237d6686b45",
   "metadata": {},
   "outputs": [
    {
     "data": {
      "text/html": [
       "<div>\n",
       "<style scoped>\n",
       "    .dataframe tbody tr th:only-of-type {\n",
       "        vertical-align: middle;\n",
       "    }\n",
       "\n",
       "    .dataframe tbody tr th {\n",
       "        vertical-align: top;\n",
       "    }\n",
       "\n",
       "    .dataframe thead th {\n",
       "        text-align: right;\n",
       "    }\n",
       "</style>\n",
       "<table border=\"1\" class=\"dataframe\">\n",
       "  <thead>\n",
       "    <tr style=\"text-align: right;\">\n",
       "      <th></th>\n",
       "      <th>category</th>\n",
       "      <th>name</th>\n",
       "      <th>revenue</th>\n",
       "    </tr>\n",
       "  </thead>\n",
       "  <tbody>\n",
       "    <tr>\n",
       "      <th>0</th>\n",
       "      <td>Chicken</td>\n",
       "      <td>The Chicken Pesto Pizza</td>\n",
       "      <td>33404.0</td>\n",
       "    </tr>\n",
       "    <tr>\n",
       "      <th>1</th>\n",
       "      <td>Chicken</td>\n",
       "      <td>The Chicken Alfredo Pizza</td>\n",
       "      <td>33800.0</td>\n",
       "    </tr>\n",
       "    <tr>\n",
       "      <th>2</th>\n",
       "      <td>Chicken</td>\n",
       "      <td>The Southwest Chicken Pizza</td>\n",
       "      <td>69412.0</td>\n",
       "    </tr>\n",
       "    <tr>\n",
       "      <th>3</th>\n",
       "      <td>Classic</td>\n",
       "      <td>The Pepperoni, Mushroom, and Peppers Pizza</td>\n",
       "      <td>37669.0</td>\n",
       "    </tr>\n",
       "    <tr>\n",
       "      <th>4</th>\n",
       "      <td>Classic</td>\n",
       "      <td>The Big Meat Pizza</td>\n",
       "      <td>45936.0</td>\n",
       "    </tr>\n",
       "    <tr>\n",
       "      <th>5</th>\n",
       "      <td>Classic</td>\n",
       "      <td>The Napolitana Pizza</td>\n",
       "      <td>48174.0</td>\n",
       "    </tr>\n",
       "    <tr>\n",
       "      <th>6</th>\n",
       "      <td>Supreme</td>\n",
       "      <td>The Brie Carre Pizza</td>\n",
       "      <td>23177.0</td>\n",
       "    </tr>\n",
       "    <tr>\n",
       "      <th>7</th>\n",
       "      <td>Supreme</td>\n",
       "      <td>The Spinach Supreme Pizza</td>\n",
       "      <td>30556.0</td>\n",
       "    </tr>\n",
       "    <tr>\n",
       "      <th>8</th>\n",
       "      <td>Supreme</td>\n",
       "      <td>The Calabrese Pizza</td>\n",
       "      <td>31868.0</td>\n",
       "    </tr>\n",
       "    <tr>\n",
       "      <th>9</th>\n",
       "      <td>Veggie</td>\n",
       "      <td>The Green Garden Pizza</td>\n",
       "      <td>27912.0</td>\n",
       "    </tr>\n",
       "    <tr>\n",
       "      <th>10</th>\n",
       "      <td>Veggie</td>\n",
       "      <td>The Mediterranean Pizza</td>\n",
       "      <td>30721.0</td>\n",
       "    </tr>\n",
       "    <tr>\n",
       "      <th>11</th>\n",
       "      <td>Veggie</td>\n",
       "      <td>The Spinach Pesto Pizza</td>\n",
       "      <td>31192.0</td>\n",
       "    </tr>\n",
       "  </tbody>\n",
       "</table>\n",
       "</div>"
      ],
      "text/plain": [
       "   category                                        name  revenue\n",
       "0   Chicken                     The Chicken Pesto Pizza  33404.0\n",
       "1   Chicken                   The Chicken Alfredo Pizza  33800.0\n",
       "2   Chicken                 The Southwest Chicken Pizza  69412.0\n",
       "3   Classic  The Pepperoni, Mushroom, and Peppers Pizza  37669.0\n",
       "4   Classic                          The Big Meat Pizza  45936.0\n",
       "5   Classic                        The Napolitana Pizza  48174.0\n",
       "6   Supreme                        The Brie Carre Pizza  23177.0\n",
       "7   Supreme                   The Spinach Supreme Pizza  30556.0\n",
       "8   Supreme                         The Calabrese Pizza  31868.0\n",
       "9    Veggie                      The Green Garden Pizza  27912.0\n",
       "10   Veggie                     The Mediterranean Pizza  30721.0\n",
       "11   Veggie                     The Spinach Pesto Pizza  31192.0"
      ]
     },
     "execution_count": 52,
     "metadata": {},
     "output_type": "execute_result"
    }
   ],
   "source": [
    "query = \"\"\" select category,name,rev from\n",
    "(select category,name,rev,\n",
    "rank() over(partition by category order by rev) as rn from\n",
    "(select pizza_types.category,pizza_types.name,\n",
    "round(sum(order_details.quantity*pizzas.price)) as rev\n",
    "from pizza_types join pizzas\n",
    "on pizza_types.pizza_type_id=pizzas.pizza_type_id\n",
    "join order_details\n",
    "on pizzas.pizza_id=order_details.pizza_id\n",
    "group by pizza_types.category,pizza_types.name\n",
    "order by pizza_types.category,pizza_types.name) as sales) as st\n",
    "where rn<=3 \"\"\"\n",
    "cur.execute(query)\n",
    "data = cur.fetchall()\n",
    "pd.DataFrame(data,columns=[\"category\",\"name\",\"revenue\"])"
   ]
  },
  {
   "cell_type": "code",
   "execution_count": null,
   "id": "859dab08-428d-42cf-b86c-514e7488ef63",
   "metadata": {},
   "outputs": [],
   "source": []
  }
 ],
 "metadata": {
  "kernelspec": {
   "display_name": "Python 3 (ipykernel)",
   "language": "python",
   "name": "python3"
  },
  "language_info": {
   "codemirror_mode": {
    "name": "ipython",
    "version": 3
   },
   "file_extension": ".py",
   "mimetype": "text/x-python",
   "name": "python",
   "nbconvert_exporter": "python",
   "pygments_lexer": "ipython3",
   "version": "3.12.4"
  }
 },
 "nbformat": 4,
 "nbformat_minor": 5
}
